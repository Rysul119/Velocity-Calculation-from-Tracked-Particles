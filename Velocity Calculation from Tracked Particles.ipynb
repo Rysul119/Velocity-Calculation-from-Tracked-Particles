{
 "cells": [
  {
   "cell_type": "code",
   "execution_count": 1,
   "metadata": {},
   "outputs": [],
   "source": [
    "import numpy as np\n",
    "import pandas as pd \n",
    "import math\n",
    "\n",
    "import matplotlib.pyplot as plt\n",
    "%matplotlib inline"
   ]
  },
  {
   "cell_type": "code",
   "execution_count": 3,
   "metadata": {},
   "outputs": [],
   "source": [
    "tr = pd.read_csv('C:/Users/**.csv') #upload a csv file with the coordinates found by using TrackPy library"
   ]
  },
  {
   "cell_type": "code",
   "execution_count": 4,
   "metadata": {},
   "outputs": [
    {
     "data": {
      "text/html": [
       "<div>\n",
       "<style scoped>\n",
       "    .dataframe tbody tr th:only-of-type {\n",
       "        vertical-align: middle;\n",
       "    }\n",
       "\n",
       "    .dataframe tbody tr th {\n",
       "        vertical-align: top;\n",
       "    }\n",
       "\n",
       "    .dataframe thead th {\n",
       "        text-align: right;\n",
       "    }\n",
       "</style>\n",
       "<table border=\"1\" class=\"dataframe\">\n",
       "  <thead>\n",
       "    <tr style=\"text-align: right;\">\n",
       "      <th></th>\n",
       "      <th>frame</th>\n",
       "      <th>Unnamed: 0</th>\n",
       "      <th>y</th>\n",
       "      <th>x</th>\n",
       "      <th>mass</th>\n",
       "      <th>size</th>\n",
       "      <th>ecc</th>\n",
       "      <th>signal</th>\n",
       "      <th>raw_mass</th>\n",
       "      <th>ep</th>\n",
       "      <th>frame.1</th>\n",
       "      <th>particle</th>\n",
       "    </tr>\n",
       "  </thead>\n",
       "  <tbody>\n",
       "    <tr>\n",
       "      <th>0</th>\n",
       "      <td>0</td>\n",
       "      <td>94</td>\n",
       "      <td>517.669909</td>\n",
       "      <td>1006.168847</td>\n",
       "      <td>3594.786237</td>\n",
       "      <td>5.537951</td>\n",
       "      <td>0.034253</td>\n",
       "      <td>34.569117</td>\n",
       "      <td>126991.0</td>\n",
       "      <td>-0.000941</td>\n",
       "      <td>0</td>\n",
       "      <td>3</td>\n",
       "    </tr>\n",
       "    <tr>\n",
       "      <th>1</th>\n",
       "      <td>1</td>\n",
       "      <td>225</td>\n",
       "      <td>517.537618</td>\n",
       "      <td>1005.937722</td>\n",
       "      <td>3892.242284</td>\n",
       "      <td>5.439407</td>\n",
       "      <td>0.021006</td>\n",
       "      <td>39.451150</td>\n",
       "      <td>127768.0</td>\n",
       "      <td>-0.000000</td>\n",
       "      <td>1</td>\n",
       "      <td>3</td>\n",
       "    </tr>\n",
       "    <tr>\n",
       "      <th>2</th>\n",
       "      <td>2</td>\n",
       "      <td>350</td>\n",
       "      <td>517.349553</td>\n",
       "      <td>1005.181104</td>\n",
       "      <td>3742.263339</td>\n",
       "      <td>5.806315</td>\n",
       "      <td>0.091401</td>\n",
       "      <td>32.662128</td>\n",
       "      <td>127003.0</td>\n",
       "      <td>-0.000000</td>\n",
       "      <td>2</td>\n",
       "      <td>3</td>\n",
       "    </tr>\n",
       "    <tr>\n",
       "      <th>3</th>\n",
       "      <td>3</td>\n",
       "      <td>475</td>\n",
       "      <td>516.290161</td>\n",
       "      <td>1005.865377</td>\n",
       "      <td>3945.038910</td>\n",
       "      <td>6.256874</td>\n",
       "      <td>0.120448</td>\n",
       "      <td>34.089103</td>\n",
       "      <td>127364.0</td>\n",
       "      <td>-0.000000</td>\n",
       "      <td>3</td>\n",
       "      <td>3</td>\n",
       "    </tr>\n",
       "    <tr>\n",
       "      <th>4</th>\n",
       "      <td>4</td>\n",
       "      <td>600</td>\n",
       "      <td>516.467691</td>\n",
       "      <td>1005.261876</td>\n",
       "      <td>3582.609966</td>\n",
       "      <td>5.694682</td>\n",
       "      <td>0.063576</td>\n",
       "      <td>30.657551</td>\n",
       "      <td>126942.0</td>\n",
       "      <td>-0.000000</td>\n",
       "      <td>4</td>\n",
       "      <td>3</td>\n",
       "    </tr>\n",
       "  </tbody>\n",
       "</table>\n",
       "</div>"
      ],
      "text/plain": [
       "   frame  Unnamed: 0           y            x         mass      size  \\\n",
       "0      0          94  517.669909  1006.168847  3594.786237  5.537951   \n",
       "1      1         225  517.537618  1005.937722  3892.242284  5.439407   \n",
       "2      2         350  517.349553  1005.181104  3742.263339  5.806315   \n",
       "3      3         475  516.290161  1005.865377  3945.038910  6.256874   \n",
       "4      4         600  516.467691  1005.261876  3582.609966  5.694682   \n",
       "\n",
       "        ecc     signal  raw_mass        ep  frame.1  particle  \n",
       "0  0.034253  34.569117  126991.0 -0.000941        0         3  \n",
       "1  0.021006  39.451150  127768.0 -0.000000        1         3  \n",
       "2  0.091401  32.662128  127003.0 -0.000000        2         3  \n",
       "3  0.120448  34.089103  127364.0 -0.000000        3         3  \n",
       "4  0.063576  30.657551  126942.0 -0.000000        4         3  "
      ]
     },
     "execution_count": 4,
     "metadata": {},
     "output_type": "execute_result"
    }
   ],
   "source": [
    "tr.head()"
   ]
  },
  {
   "cell_type": "code",
   "execution_count": 5,
   "metadata": {},
   "outputs": [],
   "source": [
    "coord=tr[[\"particle\", \"frame\", \"x\", \"y\"]]"
   ]
  },
  {
   "cell_type": "code",
   "execution_count": 6,
   "metadata": {},
   "outputs": [
    {
     "data": {
      "text/html": [
       "<div>\n",
       "<style scoped>\n",
       "    .dataframe tbody tr th:only-of-type {\n",
       "        vertical-align: middle;\n",
       "    }\n",
       "\n",
       "    .dataframe tbody tr th {\n",
       "        vertical-align: top;\n",
       "    }\n",
       "\n",
       "    .dataframe thead th {\n",
       "        text-align: right;\n",
       "    }\n",
       "</style>\n",
       "<table border=\"1\" class=\"dataframe\">\n",
       "  <thead>\n",
       "    <tr style=\"text-align: right;\">\n",
       "      <th></th>\n",
       "      <th>particle</th>\n",
       "      <th>frame</th>\n",
       "      <th>x</th>\n",
       "      <th>y</th>\n",
       "    </tr>\n",
       "  </thead>\n",
       "  <tbody>\n",
       "    <tr>\n",
       "      <th>0</th>\n",
       "      <td>3</td>\n",
       "      <td>0</td>\n",
       "      <td>1006.168847</td>\n",
       "      <td>517.669909</td>\n",
       "    </tr>\n",
       "    <tr>\n",
       "      <th>1</th>\n",
       "      <td>3</td>\n",
       "      <td>1</td>\n",
       "      <td>1005.937722</td>\n",
       "      <td>517.537618</td>\n",
       "    </tr>\n",
       "    <tr>\n",
       "      <th>2</th>\n",
       "      <td>3</td>\n",
       "      <td>2</td>\n",
       "      <td>1005.181104</td>\n",
       "      <td>517.349553</td>\n",
       "    </tr>\n",
       "    <tr>\n",
       "      <th>3</th>\n",
       "      <td>3</td>\n",
       "      <td>3</td>\n",
       "      <td>1005.865377</td>\n",
       "      <td>516.290161</td>\n",
       "    </tr>\n",
       "    <tr>\n",
       "      <th>4</th>\n",
       "      <td>3</td>\n",
       "      <td>4</td>\n",
       "      <td>1005.261876</td>\n",
       "      <td>516.467691</td>\n",
       "    </tr>\n",
       "  </tbody>\n",
       "</table>\n",
       "</div>"
      ],
      "text/plain": [
       "   particle  frame            x           y\n",
       "0         3      0  1006.168847  517.669909\n",
       "1         3      1  1005.937722  517.537618\n",
       "2         3      2  1005.181104  517.349553\n",
       "3         3      3  1005.865377  516.290161\n",
       "4         3      4  1005.261876  516.467691"
      ]
     },
     "execution_count": 6,
     "metadata": {},
     "output_type": "execute_result"
    }
   ],
   "source": [
    "coord.head()"
   ]
  },
  {
   "cell_type": "code",
   "execution_count": 7,
   "metadata": {},
   "outputs": [],
   "source": [
    "a=[coord[coord[\"particle\"]==i].frame.max() for i in range(coord[\"particle\"].max())]"
   ]
  },
  {
   "cell_type": "code",
   "execution_count": 8,
   "metadata": {},
   "outputs": [],
   "source": [
    "max_frame_particle=pd.DataFrame(a)"
   ]
  },
  {
   "cell_type": "code",
   "execution_count": 9,
   "metadata": {},
   "outputs": [],
   "source": [
    "a=[coord[coord[\"particle\"]==i].frame.min() for i in range(coord[\"particle\"].max())]"
   ]
  },
  {
   "cell_type": "code",
   "execution_count": 10,
   "metadata": {},
   "outputs": [],
   "source": [
    "min_frame_particle=pd.DataFrame(a)"
   ]
  },
  {
   "cell_type": "code",
   "execution_count": 11,
   "metadata": {},
   "outputs": [],
   "source": [
    "no_frame_particle=max_frame_particle-min_frame_particle"
   ]
  },
  {
   "cell_type": "code",
   "execution_count": 12,
   "metadata": {},
   "outputs": [],
   "source": [
    "no_frame_particle.columns=[\"Frame Count\"]"
   ]
  },
  {
   "cell_type": "code",
   "execution_count": 13,
   "metadata": {},
   "outputs": [],
   "source": [
    "particle_no=no_frame_particle[no_frame_particle[\"Frame Count\"]>20].index"
   ]
  },
  {
   "cell_type": "code",
   "execution_count": 14,
   "metadata": {},
   "outputs": [],
   "source": [
    "filtered_part=pd.DataFrame(particle_no)"
   ]
  },
  {
   "cell_type": "code",
   "execution_count": 15,
   "metadata": {},
   "outputs": [],
   "source": [
    "filtered_part.columns=[\"particle_num\"]"
   ]
  },
  {
   "cell_type": "code",
   "execution_count": 16,
   "metadata": {},
   "outputs": [],
   "source": [
    "#filtering the particles which contains in more than 20 frames\n",
    "filtered_coord=[coord[coord[\"particle\"]==i] for i in no_frame_particle[no_frame_particle[\"Frame Count\"]>20].index]"
   ]
  },
  {
   "cell_type": "code",
   "execution_count": 17,
   "metadata": {},
   "outputs": [],
   "source": [
    "df_filtered_coord=pd.concat(filtered_coord)"
   ]
  },
  {
   "cell_type": "code",
   "execution_count": 18,
   "metadata": {},
   "outputs": [
    {
     "data": {
      "text/html": [
       "<div>\n",
       "<style scoped>\n",
       "    .dataframe tbody tr th:only-of-type {\n",
       "        vertical-align: middle;\n",
       "    }\n",
       "\n",
       "    .dataframe tbody tr th {\n",
       "        vertical-align: top;\n",
       "    }\n",
       "\n",
       "    .dataframe thead th {\n",
       "        text-align: right;\n",
       "    }\n",
       "</style>\n",
       "<table border=\"1\" class=\"dataframe\">\n",
       "  <thead>\n",
       "    <tr style=\"text-align: right;\">\n",
       "      <th></th>\n",
       "      <th>particle</th>\n",
       "      <th>frame</th>\n",
       "      <th>x</th>\n",
       "      <th>y</th>\n",
       "    </tr>\n",
       "  </thead>\n",
       "  <tbody>\n",
       "    <tr>\n",
       "      <th>0</th>\n",
       "      <td>3</td>\n",
       "      <td>0</td>\n",
       "      <td>1006.168847</td>\n",
       "      <td>517.669909</td>\n",
       "    </tr>\n",
       "    <tr>\n",
       "      <th>1</th>\n",
       "      <td>3</td>\n",
       "      <td>1</td>\n",
       "      <td>1005.937722</td>\n",
       "      <td>517.537618</td>\n",
       "    </tr>\n",
       "    <tr>\n",
       "      <th>2</th>\n",
       "      <td>3</td>\n",
       "      <td>2</td>\n",
       "      <td>1005.181104</td>\n",
       "      <td>517.349553</td>\n",
       "    </tr>\n",
       "    <tr>\n",
       "      <th>3</th>\n",
       "      <td>3</td>\n",
       "      <td>3</td>\n",
       "      <td>1005.865377</td>\n",
       "      <td>516.290161</td>\n",
       "    </tr>\n",
       "    <tr>\n",
       "      <th>4</th>\n",
       "      <td>3</td>\n",
       "      <td>4</td>\n",
       "      <td>1005.261876</td>\n",
       "      <td>516.467691</td>\n",
       "    </tr>\n",
       "  </tbody>\n",
       "</table>\n",
       "</div>"
      ],
      "text/plain": [
       "   particle  frame            x           y\n",
       "0         3      0  1006.168847  517.669909\n",
       "1         3      1  1005.937722  517.537618\n",
       "2         3      2  1005.181104  517.349553\n",
       "3         3      3  1005.865377  516.290161\n",
       "4         3      4  1005.261876  516.467691"
      ]
     },
     "execution_count": 18,
     "metadata": {},
     "output_type": "execute_result"
    }
   ],
   "source": [
    "df_filtered_coord.head()"
   ]
  },
  {
   "cell_type": "code",
   "execution_count": 19,
   "metadata": {},
   "outputs": [],
   "source": [
    "um_per_px=1/3.16 #converting pixel to micrometer"
   ]
  },
  {
   "cell_type": "code",
   "execution_count": 20,
   "metadata": {},
   "outputs": [],
   "source": [
    "xum1=df_filtered_coord.x*um_per_px"
   ]
  },
  {
   "cell_type": "code",
   "execution_count": 21,
   "metadata": {},
   "outputs": [],
   "source": [
    "df_filtered_coord[\"x\"]=df_filtered_coord.x*um_per_px"
   ]
  },
  {
   "cell_type": "code",
   "execution_count": 22,
   "metadata": {},
   "outputs": [],
   "source": [
    "df_filtered_coord[\"y\"]=df_filtered_coord.y*um_per_px"
   ]
  },
  {
   "cell_type": "code",
   "execution_count": 23,
   "metadata": {},
   "outputs": [],
   "source": [
    "fps=25.2"
   ]
  },
  {
   "cell_type": "code",
   "execution_count": 24,
   "metadata": {},
   "outputs": [],
   "source": [
    "cx=[df_filtered_coord[(df_filtered_coord[\"particle\"]==i) & (df_filtered_coord[\"frame\"]==df_filtered_coord[df_filtered_coord[\"particle\"]==i].frame.min())].x for i in filtered_part.particle_num]"
   ]
  },
  {
   "cell_type": "code",
   "execution_count": 25,
   "metadata": {},
   "outputs": [],
   "source": [
    "dx=[df_filtered_coord[(df_filtered_coord[\"particle\"]==i) & (df_filtered_coord[\"frame\"]==df_filtered_coord[df_filtered_coord[\"particle\"]==i].frame.max())].x for i in filtered_part.particle_num]"
   ]
  },
  {
   "cell_type": "code",
   "execution_count": 26,
   "metadata": {},
   "outputs": [],
   "source": [
    "X1=[((float(dx[i])-float(cx[i]))**2) for i in range(len(filtered_coord))]\n",
    "X11=[((float(dx[i])-float(cx[i]))) for i in range(len(filtered_coord))]\n",
    "iX=[((float(cx[i]))) for i in range(len(filtered_coord))]"
   ]
  },
  {
   "cell_type": "code",
   "execution_count": 27,
   "metadata": {},
   "outputs": [],
   "source": [
    "cy=[df_filtered_coord[(df_filtered_coord[\"particle\"]==i) & (df_filtered_coord[\"frame\"]==df_filtered_coord[df_filtered_coord[\"particle\"]==i].frame.min())].y for i in filtered_part.particle_num]"
   ]
  },
  {
   "cell_type": "code",
   "execution_count": 28,
   "metadata": {},
   "outputs": [],
   "source": [
    "dy=[df_filtered_coord[(df_filtered_coord[\"particle\"]==i) & (df_filtered_coord[\"frame\"]==df_filtered_coord[df_filtered_coord[\"particle\"]==i].frame.max())].y for i in filtered_part.particle_num]"
   ]
  },
  {
   "cell_type": "code",
   "execution_count": 29,
   "metadata": {},
   "outputs": [],
   "source": [
    "Y1=[((float(dy[i])-float(cy[i]))**2) for i in range(len(filtered_coord))]\n",
    "Y11=[((float(dy[i])-float(cy[i]))) for i in range(len(filtered_coord))]\n",
    "iY=[((float(cy[i]))) for i in range(len(filtered_coord))]"
   ]
  },
  {
   "cell_type": "code",
   "execution_count": 30,
   "metadata": {},
   "outputs": [],
   "source": [
    "x1=np.array(X1)\n",
    "x11=np.array(X11)"
   ]
  },
  {
   "cell_type": "code",
   "execution_count": 31,
   "metadata": {},
   "outputs": [],
   "source": [
    "y1=np.array(Y1)\n",
    "y11=np.array(Y11)"
   ]
  },
  {
   "cell_type": "code",
   "execution_count": 32,
   "metadata": {},
   "outputs": [],
   "source": [
    "ds=[math.sqrt(x1[i]+y1[i]) for i in range(len(filtered_coord))]"
   ]
  },
  {
   "cell_type": "code",
   "execution_count": 33,
   "metadata": {},
   "outputs": [],
   "source": [
    "T1=[(int(df_filtered_coord[df_filtered_coord[\"particle\"]==i].frame.max())+1)/fps-(int(df_filtered_coord[df_filtered_coord[\"particle\"]==i].frame.min())+1)/fps for i in filtered_part.particle_num] "
   ]
  },
  {
   "cell_type": "code",
   "execution_count": 34,
   "metadata": {},
   "outputs": [],
   "source": [
    "t1=np.array(T1)"
   ]
  },
  {
   "cell_type": "code",
   "execution_count": 35,
   "metadata": {},
   "outputs": [],
   "source": [
    "vs=ds/t1\n",
    "vx=x11/t1\n",
    "vy=y11/t1"
   ]
  },
  {
   "cell_type": "code",
   "execution_count": 36,
   "metadata": {},
   "outputs": [
    {
     "data": {
      "text/plain": [
       "(2.5205496512700982, 3.95504902486361)"
      ]
     },
     "execution_count": 36,
     "metadata": {},
     "output_type": "execute_result"
    }
   ],
   "source": [
    "min(vs), max(vs)"
   ]
  },
  {
   "cell_type": "code",
   "execution_count": 37,
   "metadata": {},
   "outputs": [
    {
     "data": {
      "text/plain": [
       "Text(0.5, 1.0, 'Velocity Distribution')"
      ]
     },
     "execution_count": 37,
     "metadata": {},
     "output_type": "execute_result"
    },
    {
     "data": {
      "image/png": "[encoded data removed]",
      "text/plain": [
       "<Figure size 432x288 with 1 Axes>"
      ]
     },
     "metadata": {
      "needs_background": "light"
     },
     "output_type": "display_data"
    }
   ],
   "source": [
    "plt.hist(vs, bins=20)\n",
    "plt.xlabel('Velocity ($\\mu m/s$)')\n",
    "plt.ylabel('Number of Particles')\n",
    "plt.title('Velocity Distribution')"
   ]
  },
  {
   "cell_type": "code",
   "execution_count": 38,
   "metadata": {},
   "outputs": [
    {
     "data": {
      "text/plain": [
       "(3.300779670227545, 3.378065244135161)"
      ]
     },
     "execution_count": 38,
     "metadata": {},
     "output_type": "execute_result"
    }
   ],
   "source": [
    "np.mean(vs), np.median(vs)"
   ]
  },
  {
   "cell_type": "code",
   "execution_count": 40,
   "metadata": {},
   "outputs": [
    {
     "data": {
      "text/plain": [
       "<matplotlib.collections.PathCollection at 0x1cd55d03860>"
      ]
     },
     "execution_count": 40,
     "metadata": {},
     "output_type": "execute_result"
    },
    {
     "data": {
      "image/png": "[encoded data removed]",
      "text/plain": [
       "<Figure size 576x576 with 1 Axes>"
      ]
     },
     "metadata": {
      "needs_background": "light"
     },
     "output_type": "display_data"
    }
   ],
   "source": [
    "plt.figure(figsize=(8,8))\n",
    "plt.title('Arrows scale with plot width, not view')\n",
    "Q = plt.quiver(iX, iY, vx*norm, vy*norm, units='width', edgecolor='k', facecolor='k', linewidth=.5)\n",
    "qk = plt.quiverkey(Q, 0.9, 0.9, 2, r'$2 \\frac{m}{s}$', labelpos='E',\n",
    "                   coordinates='figure')\n",
    "\n",
    "plt.scatter(iX, iY, facecolors='none', edgecolors='r', s=80)\n",
    "#plt.savefig('Blackarrow.png')"
   ]
  },
  {
   "cell_type": "code",
   "execution_count": 41,
   "metadata": {},
   "outputs": [],
   "source": [
    "norm = 6 /np.sqrt(vx**2+vy**2)\n",
    "#norm=1"
   ]
  },
  {
   "cell_type": "code",
   "execution_count": 42,
   "metadata": {
    "scrolled": true
   },
   "outputs": [
    {
     "data": {
      "text/plain": [
       "<matplotlib.collections.PathCollection at 0x1cd55ecac50>"
      ]
     },
     "execution_count": 42,
     "metadata": {},
     "output_type": "execute_result"
    },
    {
     "data": {
      "image/png": "[encoded data removed]",
      "text/plain": [
       "<Figure size 576x576 with 1 Axes>"
      ]
     },
     "metadata": {
      "needs_background": "light"
     },
     "output_type": "display_data"
    }
   ],
   "source": [
    "plt.figure(figsize=(8,8))\n",
    "plt.title(\"pivot='tip'; scales with x view\")\n",
    "M = np.hypot(vx, vy)\n",
    "Q = plt.quiver(iX, iY, vx*norm, vy*norm, M, units='width', pivot='tail', width=0.005,\n",
    "               scale=100)\n",
    "qk = plt.quiverkey(Q, 0.9, 0.9, 1, r'$1 \\frac{m}{s}$', labelpos='E',\n",
    "                   coordinates='figure')\n",
    "plt.scatter(iX, iY, facecolors='none', edgecolors='r', s=80)\n",
    "plt.scatter(iX, iY, color='k', s=20)\n",
    "#plt.savefig('Colorarrow.png')"
   ]
  },
  {
   "cell_type": "code",
   "execution_count": 43,
   "metadata": {
    "scrolled": true
   },
   "outputs": [],
   "source": [
    "Vs=pd.DataFrame(vs)\n",
    "Vs.columns=['Velocity']\n",
    "Vs['Power']=17.2\n",
    "Vs['Position']='On'"
   ]
  },
  {
   "cell_type": "code",
   "execution_count": 44,
   "metadata": {
    "scrolled": true
   },
   "outputs": [
    {
     "data": {
      "text/html": [
       "<div>\n",
       "<style scoped>\n",
       "    .dataframe tbody tr th:only-of-type {\n",
       "        vertical-align: middle;\n",
       "    }\n",
       "\n",
       "    .dataframe tbody tr th {\n",
       "        vertical-align: top;\n",
       "    }\n",
       "\n",
       "    .dataframe thead th {\n",
       "        text-align: right;\n",
       "    }\n",
       "</style>\n",
       "<table border=\"1\" class=\"dataframe\">\n",
       "  <thead>\n",
       "    <tr style=\"text-align: right;\">\n",
       "      <th></th>\n",
       "      <th>Velocity</th>\n",
       "      <th>Power</th>\n",
       "      <th>Position</th>\n",
       "    </tr>\n",
       "  </thead>\n",
       "  <tbody>\n",
       "    <tr>\n",
       "      <th>0</th>\n",
       "      <td>3.482648</td>\n",
       "      <td>17.2</td>\n",
       "      <td>On</td>\n",
       "    </tr>\n",
       "    <tr>\n",
       "      <th>1</th>\n",
       "      <td>3.274131</td>\n",
       "      <td>17.2</td>\n",
       "      <td>On</td>\n",
       "    </tr>\n",
       "    <tr>\n",
       "      <th>2</th>\n",
       "      <td>3.748986</td>\n",
       "      <td>17.2</td>\n",
       "      <td>On</td>\n",
       "    </tr>\n",
       "    <tr>\n",
       "      <th>3</th>\n",
       "      <td>3.955049</td>\n",
       "      <td>17.2</td>\n",
       "      <td>On</td>\n",
       "    </tr>\n",
       "    <tr>\n",
       "      <th>4</th>\n",
       "      <td>2.520550</td>\n",
       "      <td>17.2</td>\n",
       "      <td>On</td>\n",
       "    </tr>\n",
       "  </tbody>\n",
       "</table>\n",
       "</div>"
      ],
      "text/plain": [
       "   Velocity  Power Position\n",
       "0  3.482648   17.2       On\n",
       "1  3.274131   17.2       On\n",
       "2  3.748986   17.2       On\n",
       "3  3.955049   17.2       On\n",
       "4  2.520550   17.2       On"
      ]
     },
     "execution_count": 44,
     "metadata": {},
     "output_type": "execute_result"
    }
   ],
   "source": [
    "Vs.head()"
   ]
  },
  {
   "cell_type": "code",
   "execution_count": 45,
   "metadata": {},
   "outputs": [],
   "source": [
    "Vs.to_csv('C:/Users/**.csv') #saving the output file"
   ]
  }
 ],
 "metadata": {
  "kernelspec": {
   "display_name": "Python 3",
   "language": "python",
   "name": "python3"
  },
  "language_info": {
   "codemirror_mode": {
    "name": "ipython",
    "version": 3
   },
   "file_extension": ".py",
   "mimetype": "text/x-python",
   "name": "python",
   "nbconvert_exporter": "python",
   "pygments_lexer": "ipython3",
   "version": "3.7.0"
  }
 },
 "nbformat": 4,
 "nbformat_minor": 2
}
